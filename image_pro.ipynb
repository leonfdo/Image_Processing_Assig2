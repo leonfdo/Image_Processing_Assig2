{
 "cells": [
  {
   "cell_type": "code",
   "execution_count": null,
   "metadata": {},
   "outputs": [],
   "source": [
    "import cv2 as cv\n",
    "import numpy as np\n",
    "from skimage.feature import blob_log\n",
    "from math import sqrt\n",
    "\n",
    "im = cv.imread('./the_berry_farms_sunflower_field (1).jpeg', 0)\n",
    "\n",
    "\n",
    "# Create a three-channel grayscale image\n",
    "gray_three_channel = cv.merge([gray, gray, gray])\n",
    "\n",
    "# Apply Gaussian blur to reduce noise\n",
    "blurred = cv.GaussianBlur(gray, (9, 9), 0.1)\n",
    "\n",
    "# Define parameters for blob detection\n",
    "min_sigma = 1\n",
    "max_sigma = 50\n",
    "threshold = .1\n",
    "\n",
    "# Detect blobs using Laplacian of Gaussians\n",
    "blobs = blob_log(blurred, min_sigma=min_sigma,max_sigma=max_sigma, threshold=threshold)\n",
    "blobs[:, 2] = blobs[:, 2] * sqrt(2)\n",
    "\n",
    "max_radius_index = np.argmax(blobs[:, 2])\n",
    "largest_circle_params = blobs[max_radius_index]\n",
    "y, x, r = largest_circle_params\n",
    "print(f\"Radius (r): {r}\")\n",
    "print(f\"Center (x, y): ({x}, {y})\")\n",
    "\n",
    "# Draw circles on the original grayscale image\n",
    "for blob in blobs:\n",
    "    y, x, r = blob  # Blob format is (y, x, r)\n",
    "    cv.circle(gray_three_channel, (int(x), int(y)), int(r), (0,0,255), 2)  # Draw circles in white\n",
    "\n",
    "# Display the result\n",
    "cv.imshow('Detected Circles', gray_three_channel)\n",
    "cv.waitKey(0)\n",
    "cv.destroyAllWindows()"
   ]
  }
 ],
 "metadata": {
  "language_info": {
   "name": "python"
  },
  "orig_nbformat": 4
 },
 "nbformat": 4,
 "nbformat_minor": 2
}
